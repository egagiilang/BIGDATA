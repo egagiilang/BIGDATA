{
  "nbformat": 4,
  "nbformat_minor": 0,
  "metadata": {
    "colab": {
      "name": "pemrosesan data dan visual.ipynb",
      "provenance": [],
      "collapsed_sections": [],
      "authorship_tag": "ABX9TyMWRN3m2JJRAzNgJkbU5jIt",
      "include_colab_link": true
    },
    "kernelspec": {
      "name": "python3",
      "display_name": "Python 3"
    }
  },
  "cells": [
    {
      "cell_type": "markdown",
      "metadata": {
        "id": "view-in-github",
        "colab_type": "text"
      },
      "source": [
        "<a href=\"https://colab.research.google.com/github/egagiilang/BIGDATA/blob/master/pemrosesan_data_dan_visual.ipynb\" target=\"_parent\"><img src=\"https://colab.research.google.com/assets/colab-badge.svg\" alt=\"Open In Colab\"/></a>"
      ]
    },
    {
      "cell_type": "markdown",
      "metadata": {
        "id": "hPoGNLXsNeAH",
        "colab_type": "text"
      },
      "source": [
        "# **1. Instalasi Spark pada Google Colab**"
      ]
    },
    {
      "cell_type": "code",
      "metadata": {
        "id": "LlxhliqWW-cS",
        "colab_type": "code",
        "colab": {}
      },
      "source": [
        "!apt-get install openjdk-8-jdk-headless -qq > /dev/null\n",
        "!wget -q http://www-eu.apache.org/dist/spark/spark-3.0.0/spark-3.0.0-bin-hadoop2.7.tgz\n",
        "!tar xf spark-3.0.0-bin-hadoop2.7.tgz\n",
        "!pip install -q findspark"
      ],
      "execution_count": null,
      "outputs": []
    },
    {
      "cell_type": "code",
      "metadata": {
        "id": "W_F0J0iiXvSK",
        "colab_type": "code",
        "colab": {}
      },
      "source": [
        "import os\n",
        "os.environ[\"JAVA_HOME\"] = \"/usr/lib/jvm/java-8-openjdk-amd64\"\n",
        "os.environ[\"SPARK_HOME\"] = \"/content/spark-3.0.0-bin-hadoop2.7\""
      ],
      "execution_count": null,
      "outputs": []
    },
    {
      "cell_type": "markdown",
      "metadata": {
        "id": "Edh36KakN1zJ",
        "colab_type": "text"
      },
      "source": [
        "# **2. Import library Spark yang sudah diinstal**"
      ]
    },
    {
      "cell_type": "code",
      "metadata": {
        "id": "5d_uBbWeQ3z_",
        "colab_type": "code",
        "colab": {}
      },
      "source": [
        "!pip install -q pyspark_dist_explore"
      ],
      "execution_count": null,
      "outputs": []
    },
    {
      "cell_type": "code",
      "metadata": {
        "id": "faYQT3O2X43H",
        "colab_type": "code",
        "colab": {}
      },
      "source": [
        "import findspark\n",
        "findspark.init(\"spark-3.0.0-bin-hadoop2.7\")# SPARK_HOME\n",
        "from pyspark.sql import SparkSession\n",
        "spark = SparkSession.builder.master(\"local[*]\").getOrCreate()\n",
        "from pyspark.sql.functions import col, avg\n",
        "from matplotlib import pyplot as plt\n",
        "from pyspark_dist_explore import Histogram, hist"
      ],
      "execution_count": null,
      "outputs": []
    },
    {
      "cell_type": "markdown",
      "metadata": {
        "id": "pcsv76mTN7HN",
        "colab_type": "text"
      },
      "source": [
        "# **3. Inisialisasi SparkContext dan SparkSession**"
      ]
    },
    {
      "cell_type": "code",
      "metadata": {
        "id": "R57nm4ZmX9_e",
        "colab_type": "code",
        "colab": {}
      },
      "source": [
        "sc = spark.sparkContext\n",
        "spark = SparkSession(sc)"
      ],
      "execution_count": null,
      "outputs": []
    },
    {
      "cell_type": "markdown",
      "metadata": {
        "id": "u8KZtiqaN9zt",
        "colab_type": "text"
      },
      "source": [
        "# **4. Load Dataset**"
      ]
    },
    {
      "cell_type": "code",
      "metadata": {
        "id": "bILBk3s6YA3o",
        "colab_type": "code",
        "colab": {
          "base_uri": "https://localhost:8080/",
          "height": 408
        },
        "outputId": "6490aacd-74e5-4be2-f1f2-ce476c8fc403"
      },
      "source": [
        "WorldCupMatches_df = spark.read.csv(\"WorldCupMatches_Processed.csv\", header=True, inferSchema=True)\n",
        "WorldCupMatches_df.printSchema() "
      ],
      "execution_count": null,
      "outputs": [
        {
          "output_type": "stream",
          "text": [
            "root\n",
            " |-- Year: integer (nullable = true)\n",
            " |-- Datetime: string (nullable = true)\n",
            " |-- Stage: string (nullable = true)\n",
            " |-- Stadium: string (nullable = true)\n",
            " |-- City: string (nullable = true)\n",
            " |-- Home Team Name: string (nullable = true)\n",
            " |-- Home Team Goals: integer (nullable = true)\n",
            " |-- Away Team Goals: integer (nullable = true)\n",
            " |-- Away Team Name: string (nullable = true)\n",
            " |-- Win conditions: string (nullable = true)\n",
            " |-- Attendance: integer (nullable = true)\n",
            " |-- Half_timeHomeGoals: integer (nullable = true)\n",
            " |-- Half_timeAwayGoals: integer (nullable = true)\n",
            " |-- Referee: string (nullable = true)\n",
            " |-- Assistant 1: string (nullable = true)\n",
            " |-- Assistant 2: string (nullable = true)\n",
            " |-- RoundID: integer (nullable = true)\n",
            " |-- MatchID: integer (nullable = true)\n",
            " |-- Home Team Initials: string (nullable = true)\n",
            " |-- Away Team Initials: string (nullable = true)\n",
            "\n"
          ],
          "name": "stdout"
        }
      ]
    },
    {
      "cell_type": "code",
      "metadata": {
        "id": "6LaI17oF8-D4",
        "colab_type": "code",
        "colab": {
          "base_uri": "https://localhost:8080/",
          "height": 232
        },
        "outputId": "4254aaeb-28b3-435b-ae86-ca4bd5b2770f"
      },
      "source": [
        "WorldCupMatches_df.show(5)"
      ],
      "execution_count": null,
      "outputs": [
        {
          "output_type": "stream",
          "text": [
            "+----+-------------------+-------+--------------+----------+--------------+---------------+---------------+--------------+--------------+----------+------------------+------------------+--------------------+--------------------+--------------------+-------+-------+------------------+------------------+\n",
            "|Year|           Datetime|  Stage|       Stadium|      City|Home Team Name|Home Team Goals|Away Team Goals|Away Team Name|Win conditions|Attendance|Half_timeHomeGoals|Half_timeAwayGoals|             Referee|         Assistant 1|         Assistant 2|RoundID|MatchID|Home Team Initials|Away Team Initials|\n",
            "+----+-------------------+-------+--------------+----------+--------------+---------------+---------------+--------------+--------------+----------+------------------+------------------+--------------------+--------------------+--------------------+-------+-------+------------------+------------------+\n",
            "|1930|13 Jul 1930 - 15:00|Group 1|       Pocitos|Montevideo|        France|              4|              1|        Mexico|          \\\"\\\"|      4444|                 3|                 0|LOMBARDI Domingo ...|CRISTOPHE Henry (...| REGO Gilberto (BRA)|    201|   1096|               FRA|               MEX|\n",
            "|1930|13 Jul 1930 - 15:00|Group 4|Parque Central|Montevideo|           USA|              3|              0|       Belgium|          \\\"\\\"|     18346|                 2|                 0|   MACIAS Jose (ARG)|MATEUCCI Francisc...|WARNKEN Alberto (...|    201|   1090|               USA|               BEL|\n",
            "|1930|14 Jul 1930 - 12:45|Group 2|Parque Central|Montevideo|    Yugoslavia|              2|              1|        Brazil|          \\\"\\\"|     24059|                 2|                 0| TEJADA Anibal (URU)|VALLARINO Ricardo...| BALWAY Thomas (FRA)|    201|   1093|               YUG|               BRA|\n",
            "|1930|14 Jul 1930 - 14:50|Group 3|       Pocitos|Montevideo|       Romania|              3|              1|          Peru|          \\\"\\\"|      2549|                 1|                 0|WARNKEN Alberto (...| LANGENUS Jean (BEL)|MATEUCCI Francisc...|    201|   1098|               ROU|               PER|\n",
            "|1930|15 Jul 1930 - 16:00|Group 1|Parque Central|Montevideo|     Argentina|              1|              0|        France|          \\\"\\\"|     23409|                 0|                 0| REGO Gilberto (BRA)|SAUCEDO Ulises (BOL)|RADULESCU Constan...|    201|   1085|               ARG|               FRA|\n",
            "+----+-------------------+-------+--------------+----------+--------------+---------------+---------------+--------------+--------------+----------+------------------+------------------+--------------------+--------------------+--------------------+-------+-------+------------------+------------------+\n",
            "only showing top 5 rows\n",
            "\n"
          ],
          "name": "stdout"
        }
      ]
    },
    {
      "cell_type": "code",
      "metadata": {
        "id": "0Kv5KAoyrDI5",
        "colab_type": "code",
        "colab": {}
      },
      "source": [
        "data = WorldCupMatches_df.select('Year','Half_timeHomeGoals','Half_timeAwayGoals')"
      ],
      "execution_count": null,
      "outputs": []
    },
    {
      "cell_type": "code",
      "metadata": {
        "id": "j8EkK5dprbIY",
        "colab_type": "code",
        "colab": {
          "base_uri": "https://localhost:8080/",
          "height": 301
        },
        "outputId": "96126940-0d04-4bbb-b318-f57e2fa99237"
      },
      "source": [
        "data.show(10)"
      ],
      "execution_count": null,
      "outputs": [
        {
          "output_type": "stream",
          "text": [
            "+----+------------------+------------------+\n",
            "|Year|Half_timeHomeGoals|Half_timeAwayGoals|\n",
            "+----+------------------+------------------+\n",
            "|1930|                 3|                 0|\n",
            "|1930|                 2|                 0|\n",
            "|1930|                 2|                 0|\n",
            "|1930|                 1|                 0|\n",
            "|1930|                 0|                 0|\n",
            "|1930|                 1|                 0|\n",
            "|1930|                 0|                 0|\n",
            "|1930|                 2|                 0|\n",
            "|1930|                 0|                 0|\n",
            "|1930|                 0|                 0|\n",
            "+----+------------------+------------------+\n",
            "only showing top 10 rows\n",
            "\n"
          ],
          "name": "stdout"
        }
      ]
    },
    {
      "cell_type": "markdown",
      "metadata": {
        "id": "5CW1-HnuO0cy",
        "colab_type": "text"
      },
      "source": [
        "# **5. Pemrosesan Data**"
      ]
    },
    {
      "cell_type": "markdown",
      "metadata": {
        "id": "tf8z27k9WPTx",
        "colab_type": "text"
      },
      "source": [
        "Di pemrosesan data ini, analisis yang digunakan adalah menghitung perbandingan jumlah goal yang terjadi pada half-time\n",
        "\n",
        "Karena banyak kemungkinan yang terjadi maka diambil salah satu contoh untuk di proses"
      ]
    },
    {
      "cell_type": "markdown",
      "metadata": {
        "id": "-iFtPdiSWweF",
        "colab_type": "text"
      },
      "source": [
        "**Jumlah goal pada half-time (1-1)**\n",
        "\n",
        "Pada proses ini menggunakan transformation dan action pada spark dataframe"
      ]
    },
    {
      "cell_type": "code",
      "metadata": {
        "id": "N0YUidxYV75Q",
        "colab_type": "code",
        "colab": {
          "base_uri": "https://localhost:8080/",
          "height": 1000
        },
        "outputId": "a419d280-5c2d-45fa-d394-9c1dd8a22168"
      },
      "source": [
        "# data home\n",
        "data_home = data.filter(data.Half_timeHomeGoals == '1')\n",
        "home = data_home.filter(data_home.Half_timeHomeGoals > 0)\n",
        "home.show()\n",
        "\n",
        "# data away\n",
        "data_away = data.filter(data.Half_timeAwayGoals == '1')\n",
        "away = data_away.filter(data_away.Half_timeAwayGoals > 0)\n",
        "away.show()\n",
        "\n",
        "# membuat tabel \n",
        "home.createOrReplaceTempView(\"HM\")\n",
        "away.createOrReplaceTempView(\"AW\")\n",
        "\n",
        "jumlah = spark.sql(\"SELECT COUNT(Half_timeHomeGoals) FROM HM\").show()\n",
        "jumlah2 = spark.sql(\"SELECT COUNT(Half_timeAwayGoals) FROM AW\").show()"
      ],
      "execution_count": null,
      "outputs": [
        {
          "output_type": "stream",
          "text": [
            "+----+------------------+------------------+\n",
            "|Year|Half_timeHomeGoals|Half_timeAwayGoals|\n",
            "+----+------------------+------------------+\n",
            "|1930|                 1|                 0|\n",
            "|1930|                 1|                 0|\n",
            "|1930|                 1|                 0|\n",
            "|1930|                 1|                 0|\n",
            "|1930|                 1|                 0|\n",
            "|1930|                 1|                 2|\n",
            "|1934|                 1|                 1|\n",
            "|1934|                 1|                 2|\n",
            "|1934|                 1|                 1|\n",
            "|1934|                 1|                 0|\n",
            "|1934|                 1|                 0|\n",
            "|1934|                 1|                 0|\n",
            "|1934|                 1|                 0|\n",
            "|1938|                 1|                 2|\n",
            "|1938|                 1|                 0|\n",
            "|1938|                 1|                 1|\n",
            "|1938|                 1|                 2|\n",
            "|1950|                 1|                 0|\n",
            "|1950|                 1|                 0|\n",
            "|1950|                 1|                 0|\n",
            "+----+------------------+------------------+\n",
            "only showing top 20 rows\n",
            "\n",
            "+----+------------------+------------------+\n",
            "|Year|Half_timeHomeGoals|Half_timeAwayGoals|\n",
            "+----+------------------+------------------+\n",
            "|1930|                 3|                 1|\n",
            "|1930|                 2|                 1|\n",
            "|1930|                 3|                 1|\n",
            "|1934|                 2|                 1|\n",
            "|1934|                 1|                 1|\n",
            "|1934|                 0|                 1|\n",
            "|1934|                 1|                 1|\n",
            "|1934|                 3|                 1|\n",
            "|1938|                 2|                 1|\n",
            "|1938|                 0|                 1|\n",
            "|1938|                 1|                 1|\n",
            "|1938|                 0|                 1|\n",
            "|1938|                 3|                 1|\n",
            "|1938|                 3|                 1|\n",
            "|1950|                 0|                 1|\n",
            "|1950|                 2|                 1|\n",
            "|1950|                 2|                 1|\n",
            "|1950|                 2|                 1|\n",
            "|1954|                 1|                 1|\n",
            "|1954|                 1|                 1|\n",
            "+----+------------------+------------------+\n",
            "only showing top 20 rows\n",
            "\n",
            "+-------------------------+\n",
            "|count(Half_timeHomeGoals)|\n",
            "+-------------------------+\n",
            "|                      269|\n",
            "+-------------------------+\n",
            "\n",
            "+-------------------------+\n",
            "|count(Half_timeAwayGoals)|\n",
            "+-------------------------+\n",
            "|                      238|\n",
            "+-------------------------+\n",
            "\n"
          ],
          "name": "stdout"
        }
      ]
    },
    {
      "cell_type": "markdown",
      "metadata": {
        "id": "oHFCX_8SD9OU",
        "colab_type": "text"
      },
      "source": [
        "Pada data di atas telah dilakukan  pemrosesan data berupa jumlah goal yang terjadi berdasarkan skor yang diraih yaitu 1 baik home ataupun away. Hasil tersebut memperoleh **jumlah goal (home) di half-time = 269** dan **jumlah goal (away) di half-time = 238**"
      ]
    },
    {
      "cell_type": "markdown",
      "metadata": {
        "id": "bdSzlUiYMB0y",
        "colab_type": "text"
      },
      "source": [
        "# **6. Visual Data**"
      ]
    },
    {
      "cell_type": "markdown",
      "metadata": {
        "id": "EEGuWuKnMRSR",
        "colab_type": "text"
      },
      "source": [
        "Jumlah Goal di half-time berdasarkan home dan away"
      ]
    },
    {
      "cell_type": "code",
      "metadata": {
        "id": "vyfPFWBwETmR",
        "colab_type": "code",
        "colab": {
          "base_uri": "https://localhost:8080/",
          "height": 355
        },
        "outputId": "20a0bf86-69aa-474e-a5fb-ee2fa2e2478c"
      },
      "source": [
        "# plotting data\n",
        "fig, axes = plt.subplots()\n",
        "\n",
        "# jumlah goal di half-time\n",
        "fig.set_size_inches(7, 5)\n",
        "\n",
        "plt.title('Perbandingan jumlah goal di half-time')\n",
        "plt.pie([data_home.count(), data_away.count()], labels=['Home', 'Away'], autopct='%1.1f%%', shadow=True, startangle=40, colors=['pink', 'yellow'])\n",
        "print('\\n')"
      ],
      "execution_count": null,
      "outputs": [
        {
          "output_type": "stream",
          "text": [
            "\n",
            "\n"
          ],
          "name": "stdout"
        },
        {
          "output_type": "display_data",
          "data": {
            "image/png": "[encoded data removed]",
            "text/plain": [
              "<Figure size 504x360 with 1 Axes>"
            ]
          },
          "metadata": {
            "tags": []
          }
        }
      ]
    },
    {
      "cell_type": "markdown",
      "metadata": {
        "id": "a5jht-bbR96N",
        "colab_type": "text"
      },
      "source": [
        "Di dapat kesimpulan bahwa jumlah goal yang dihasilkan dari home dan away (half-time) sepanjang FIFA WORLD CUP diadakan, team dari home lebih banyak meraih skor terlebih dahulu daripada team dari away"
      ]
    }
  ]
}