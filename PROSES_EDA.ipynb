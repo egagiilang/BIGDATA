{
  "nbformat": 4,
  "nbformat_minor": 0,
  "metadata": {
    "colab": {
      "name": "PROSES EDA.ipynb",
      "provenance": [],
      "collapsed_sections": [],
      "authorship_tag": "ABX9TyP2dVrz7gbwvHEQQFVYtJMV",
      "include_colab_link": true
    },
    "kernelspec": {
      "name": "python3",
      "display_name": "Python 3"
    }
  },
  "cells": [
    {
      "cell_type": "markdown",
      "metadata": {
        "id": "view-in-github",
        "colab_type": "text"
      },
      "source": [
        "<a href=\"https://colab.research.google.com/github/egagiilang/EgaGilangMahendra/blob/master/PROSES_EDA.ipynb\" target=\"_parent\"><img src=\"https://colab.research.google.com/assets/colab-badge.svg\" alt=\"Open In Colab\"/></a>"
      ]
    },
    {
      "cell_type": "code",
      "metadata": {
        "id": "csuQwufXdpRK",
        "colab_type": "code",
        "colab": {}
      },
      "source": [
        "!apt-get install openjdk-8-jdk-headless -qq > /dev/null\n",
        "!wget -q http://www-eu.apache.org/dist/spark/spark-3.0.0/spark-3.0.0-bin-hadoop2.7.tgz\n",
        "!tar xf spark-3.0.0-bin-hadoop2.7.tgz\n",
        "!pip install -q findspark\n"
      ],
      "execution_count": 1,
      "outputs": []
    },
    {
      "cell_type": "code",
      "metadata": {
        "id": "6J4qS8Egi9KB",
        "colab_type": "code",
        "colab": {}
      },
      "source": [
        "import os\n",
        "os.environ[\"JAVA_HOME\"] = \"/usr/lib/jvm/java-8-openjdk-amd64\"\n",
        "os.environ[\"SPARK_HOME\"] = \"/content/spark-3.0.0-bin-hadoop2.7\""
      ],
      "execution_count": 2,
      "outputs": []
    },
    {
      "cell_type": "code",
      "metadata": {
        "id": "J3z3cQKDjGTp",
        "colab_type": "code",
        "colab": {}
      },
      "source": [
        "import findspark\n",
        "findspark.init(\"spark-3.0.0-bin-hadoop2.7\")# SPARK_HOME\n",
        "from pyspark.sql import SparkSession\n",
        "spark = SparkSession.builder.master(\"local[*]\").getOrCreate()\n",
        "from pyspark.sql.functions import col, avg"
      ],
      "execution_count": 3,
      "outputs": []
    },
    {
      "cell_type": "code",
      "metadata": {
        "id": "HOLGJgqPjNWx",
        "colab_type": "code",
        "colab": {}
      },
      "source": [
        "!pip install -q pyspark_dist_explore"
      ],
      "execution_count": 4,
      "outputs": []
    },
    {
      "cell_type": "code",
      "metadata": {
        "id": "Ow4IQfH-jwkq",
        "colab_type": "code",
        "colab": {}
      },
      "source": [
        "import matplotlib.pyplot as plt\n",
        "from pyspark_dist_explore import Histogram, hist"
      ],
      "execution_count": 5,
      "outputs": []
    },
    {
      "cell_type": "code",
      "metadata": {
        "id": "2U-vV5uTj00D",
        "colab_type": "code",
        "colab": {}
      },
      "source": [
        "sc = spark.sparkContext\n",
        "spark = SparkSession(sc)"
      ],
      "execution_count": 6,
      "outputs": []
    },
    {
      "cell_type": "code",
      "metadata": {
        "id": "y1aXWhQFkJVq",
        "colab_type": "code",
        "colab": {
          "base_uri": "https://localhost:8080/",
          "height": 386
        },
        "outputId": "c08ca8d0-5a1d-49d3-ad2e-c6cc40c37fde"
      },
      "source": [
        "WorldCupMatches_df = spark.read.csv(\"WorldCupMatches.csv\", header=True, inferSchema=True)\n",
        "WorldCupMatches_df.printSchema() "
      ],
      "execution_count": 7,
      "outputs": [
        {
          "output_type": "stream",
          "text": [
            "root\n",
            " |-- Year: integer (nullable = true)\n",
            " |-- Datetime: string (nullable = true)\n",
            " |-- Stage: string (nullable = true)\n",
            " |-- Stadium: string (nullable = true)\n",
            " |-- City: string (nullable = true)\n",
            " |-- Home Team Name: string (nullable = true)\n",
            " |-- Home Team Goals: integer (nullable = true)\n",
            " |-- Away Team Goals: integer (nullable = true)\n",
            " |-- Away Team Name: string (nullable = true)\n",
            " |-- Win conditions: string (nullable = true)\n",
            " |-- Attendance: integer (nullable = true)\n",
            " |-- Half-time Home Goals: integer (nullable = true)\n",
            " |-- Half-time Away Goals: integer (nullable = true)\n",
            " |-- Referee: string (nullable = true)\n",
            " |-- Assistant 1: string (nullable = true)\n",
            " |-- Assistant 2: string (nullable = true)\n",
            " |-- RoundID: integer (nullable = true)\n",
            " |-- MatchID: integer (nullable = true)\n",
            " |-- Home Team Initials: string (nullable = true)\n",
            " |-- Away Team Initials: string (nullable = true)\n",
            "\n"
          ],
          "name": "stdout"
        }
      ]
    },
    {
      "cell_type": "code",
      "metadata": {
        "id": "tVchuJejklZR",
        "colab_type": "code",
        "colab": {
          "base_uri": "https://localhost:8080/",
          "height": 50
        },
        "outputId": "854782f7-53bb-40eb-f261-49d8600bfc9c"
      },
      "source": [
        "print(\"Jumlah pertandingan yang terjadi :\")\n",
        "WorldCupMatches_df.count()"
      ],
      "execution_count": 8,
      "outputs": [
        {
          "output_type": "stream",
          "text": [
            "Jumlah pertandingan yang terjadi :\n"
          ],
          "name": "stdout"
        },
        {
          "output_type": "execute_result",
          "data": {
            "text/plain": [
              "852"
            ]
          },
          "metadata": {
            "tags": []
          },
          "execution_count": 8
        }
      ]
    },
    {
      "cell_type": "code",
      "metadata": {
        "id": "DIprlWb_kxQK",
        "colab_type": "code",
        "colab": {
          "base_uri": "https://localhost:8080/",
          "height": 185
        },
        "outputId": "822507d7-6679-4a78-cfbe-ed650894a685"
      },
      "source": [
        "WorldCupMatches_df.select('Half-time Home Goals', 'Half-time Away Goals').describe().show()"
      ],
      "execution_count": 14,
      "outputs": [
        {
          "output_type": "stream",
          "text": [
            "+-------+--------------------+--------------------+\n",
            "|summary|Half-time Home Goals|Half-time Away Goals|\n",
            "+-------+--------------------+--------------------+\n",
            "|  count|                 852|                 852|\n",
            "|   mean|  0.7089201877934272|  0.4284037558685446|\n",
            "| stddev|   0.937414128662808|  0.6912518906955025|\n",
            "|    min|                   0|                   0|\n",
            "|    max|                   6|                   5|\n",
            "+-------+--------------------+--------------------+\n",
            "\n"
          ],
          "name": "stdout"
        }
      ]
    },
    {
      "cell_type": "code",
      "metadata": {
        "id": "MUDqCFeypq6G",
        "colab_type": "code",
        "colab": {
          "base_uri": "https://localhost:8080/",
          "height": 623
        },
        "outputId": "40a50690-3f91-4507-ad7d-9a7bee58a3fd"
      },
      "source": [
        "WorldCupMatches_df_halftimehome = WorldCupMatches_df.select('Half-time Home Goals')\n",
        "\n",
        "fig, axes = plt.subplots()\n",
        "fig.set_size_inches(5, 5)\n",
        "hist(axes, WorldCupMatches_df_halftimehome, bins=20, color=\"red\",)\n",
        "\n",
        "WorldCupMatches_df_halftimeaway = WorldCupMatches_df.select('Half-time Away Goals')\n",
        "\n",
        "fig, axes = plt.subplots()\n",
        "fig.set_size_inches(5, 5)\n",
        "hist(axes, WorldCupMatches_df_halftimeaway, bins=20, color=\"blue\",)\n",
        "\n",
        "plt.show()"
      ],
      "execution_count": 10,
      "outputs": [
        {
          "output_type": "display_data",
          "data": {
            "image/png": "[encoded data removed]",
            "text/plain": [
              "<Figure size 360x360 with 1 Axes>"
            ]
          },
          "metadata": {
            "tags": [],
            "needs_background": "light"
          }
        },
        {
          "output_type": "display_data",
          "data": {
            "image/png": "[encoded data removed]",
            "text/plain": [
              "<Figure size 360x360 with 1 Axes>"
            ]
          },
          "metadata": {
            "tags": [],
            "needs_background": "light"
          }
        }
      ]
    },
    {
      "cell_type": "code",
      "metadata": {
        "id": "rDh9NppbsNue",
        "colab_type": "code",
        "colab": {
          "base_uri": "https://localhost:8080/",
          "height": 67
        },
        "outputId": "0669eec3-db0b-4d32-b30a-463f7e6e29ee"
      },
      "source": [
        "print(\"Jumlah total goal home dengan kolom kosong(null):\")\n",
        "WorldCupMatches_df.where(col(\"Half-time Home Goals\").isNull()).count()\n",
        "\n",
        "print(\"Jumlah total goal away dengan kolom kosong(null):\")\n",
        "WorldCupMatches_df.where(col(\"Half-time Away Goals\").isNull()).count()"
      ],
      "execution_count": 11,
      "outputs": [
        {
          "output_type": "stream",
          "text": [
            "Jumlah total goal home dengan kolom kosong(null):\n",
            "Jumlah total goal away dengan kolom kosong(null):\n"
          ],
          "name": "stdout"
        },
        {
          "output_type": "execute_result",
          "data": {
            "text/plain": [
              "0"
            ]
          },
          "metadata": {
            "tags": []
          },
          "execution_count": 11
        }
      ]
    },
    {
      "cell_type": "code",
      "metadata": {
        "id": "1JfwGB4Mwwde",
        "colab_type": "code",
        "colab": {
          "base_uri": "https://localhost:8080/",
          "height": 50
        },
        "outputId": "a247cc35-2452-41e0-9cd2-855cdb07ed66"
      },
      "source": [
        "mean_halftimehome = WorldCupMatches_df.agg(avg(col(\"Half-time Home Goals\"))).first()\n",
        "print(\"rata-rata goal di half-time(home) : \", mean_halftimehome[0])\n",
        "WorldCupMatches_df = WorldCupMatches_df.na.fill(mean_halftimehome[0], [\"Half-time Home Goals\"])\n",
        "\n",
        "mean_halftimeaway = WorldCupMatches_df.agg(avg(col(\"Half-time Away Goals\"))).first()\n",
        "print(\"rata-rata goal di half-time(away) : \", mean_halftimeaway[0])\n",
        "WorldCupMatches_df = WorldCupMatches_df.na.fill(mean_halftimeaway[0], [\"Half-time Away Goals\"])"
      ],
      "execution_count": 12,
      "outputs": [
        {
          "output_type": "stream",
          "text": [
            "rata-rata goal di half-time(home) :  0.7089201877934272\n",
            "rata-rata goal di half-time(away) :  0.4284037558685446\n"
          ],
          "name": "stdout"
        }
      ]
    },
    {
      "cell_type": "code",
      "metadata": {
        "id": "xvgnnbQ4xofY",
        "colab_type": "code",
        "colab": {
          "base_uri": "https://localhost:8080/",
          "height": 67
        },
        "outputId": "a7875c83-9a6b-40ca-9078-33d9ed86f3d1"
      },
      "source": [
        "print(\"Jumlah total goal(home) dengan kolom kosong(null):\")\n",
        "WorldCupMatches_df.where(col(\"Half-time Home Goals\").isNull()).count()\n",
        "\n",
        "print(\"Jumlah total goal(away) dengan kolom kosong(null):\")\n",
        "WorldCupMatches_df.where(col(\"Half-time Away Goals\").isNull()).count()"
      ],
      "execution_count": 15,
      "outputs": [
        {
          "output_type": "stream",
          "text": [
            "Jumlah total goal(home) dengan kolom kosong(null):\n",
            "Jumlah total goal(away) dengan kolom kosong(null):\n"
          ],
          "name": "stdout"
        },
        {
          "output_type": "execute_result",
          "data": {
            "text/plain": [
              "0"
            ]
          },
          "metadata": {
            "tags": []
          },
          "execution_count": 15
        }
      ]
    },
    {
      "cell_type": "code",
      "metadata": {
        "id": "frGA5bEcyAeI",
        "colab_type": "code",
        "colab": {
          "base_uri": "https://localhost:8080/",
          "height": 185
        },
        "outputId": "d2f0e293-6c3b-4507-cd02-59b4730b85a5"
      },
      "source": [
        "WorldCupMatches_df.select('Half-time Home Goals', 'Half-time Away Goals').describe().show()"
      ],
      "execution_count": 16,
      "outputs": [
        {
          "output_type": "stream",
          "text": [
            "+-------+--------------------+--------------------+\n",
            "|summary|Half-time Home Goals|Half-time Away Goals|\n",
            "+-------+--------------------+--------------------+\n",
            "|  count|                 852|                 852|\n",
            "|   mean|  0.7089201877934272|  0.4284037558685446|\n",
            "| stddev|   0.937414128662808|  0.6912518906955025|\n",
            "|    min|                   0|                   0|\n",
            "|    max|                   6|                   5|\n",
            "+-------+--------------------+--------------------+\n",
            "\n"
          ],
          "name": "stdout"
        }
      ]
    },
    {
      "cell_type": "code",
      "metadata": {
        "id": "s5g6tZddyTBV",
        "colab_type": "code",
        "colab": {}
      },
      "source": [
        "WorldCupMatches_df.coalesce(1).write.csv(\"WorldCupMatches_processed\", header=True)"
      ],
      "execution_count": 17,
      "outputs": []
    },
    {
      "cell_type": "code",
      "metadata": {
        "id": "lOFgxudsykjh",
        "colab_type": "code",
        "colab": {}
      },
      "source": [
        "spark.stop() "
      ],
      "execution_count": 18,
      "outputs": []
    }
  ]
}