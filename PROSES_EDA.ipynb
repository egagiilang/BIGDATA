{
  "nbformat": 4,
  "nbformat_minor": 0,
  "metadata": {
    "colab": {
      "name": "PROSES EDA.ipynb",
      "provenance": [],
      "collapsed_sections": [],
      "authorship_tag": "ABX9TyNTFcyy6Mxwi2u1CjCBvev+",
      "include_colab_link": true
    },
    "kernelspec": {
      "name": "python3",
      "display_name": "Python 3"
    }
  },
  "cells": [
    {
      "cell_type": "markdown",
      "metadata": {
        "id": "view-in-github",
        "colab_type": "text"
      },
      "source": [
        "<a href=\"https://colab.research.google.com/github/egagiilang/BIGDATA/blob/master/PROSES_EDA.ipynb\" target=\"_parent\"><img src=\"https://colab.research.google.com/assets/colab-badge.svg\" alt=\"Open In Colab\"/></a>"
      ]
    },
    {
      "cell_type": "markdown",
      "metadata": {
        "id": "ysM8RB62LWUC",
        "colab_type": "text"
      },
      "source": [
        "# **1. Instalasi Spark pada Google Colab**"
      ]
    },
    {
      "cell_type": "code",
      "metadata": {
        "id": "csuQwufXdpRK",
        "colab_type": "code",
        "colab": {}
      },
      "source": [
        "!apt-get install openjdk-8-jdk-headless -qq > /dev/null\n",
        "!wget -q http://www-eu.apache.org/dist/spark/spark-3.0.0/spark-3.0.0-bin-hadoop2.7.tgz\n",
        "!tar xf spark-3.0.0-bin-hadoop2.7.tgz\n",
        "!pip install -q findspark\n"
      ],
      "execution_count": 21,
      "outputs": []
    },
    {
      "cell_type": "code",
      "metadata": {
        "id": "6J4qS8Egi9KB",
        "colab_type": "code",
        "colab": {}
      },
      "source": [
        "import os\n",
        "os.environ[\"JAVA_HOME\"] = \"/usr/lib/jvm/java-8-openjdk-amd64\"\n",
        "os.environ[\"SPARK_HOME\"] = \"/content/spark-3.0.0-bin-hadoop2.7\""
      ],
      "execution_count": 22,
      "outputs": []
    },
    {
      "cell_type": "markdown",
      "metadata": {
        "id": "673QHvhLL8O4",
        "colab_type": "text"
      },
      "source": [
        "# **2. Import library Spark yang sudah diinstal**"
      ]
    },
    {
      "cell_type": "code",
      "metadata": {
        "id": "J3z3cQKDjGTp",
        "colab_type": "code",
        "colab": {}
      },
      "source": [
        "import findspark\n",
        "findspark.init(\"spark-3.0.0-bin-hadoop2.7\")# SPARK_HOME\n",
        "from pyspark.sql import SparkSession\n",
        "spark = SparkSession.builder.master(\"local[*]\").getOrCreate()\n",
        "from pyspark.sql.functions import col, avg"
      ],
      "execution_count": 23,
      "outputs": []
    },
    {
      "cell_type": "code",
      "metadata": {
        "id": "HOLGJgqPjNWx",
        "colab_type": "code",
        "colab": {}
      },
      "source": [
        "!pip install -q pyspark_dist_explore"
      ],
      "execution_count": 24,
      "outputs": []
    },
    {
      "cell_type": "code",
      "metadata": {
        "id": "Ow4IQfH-jwkq",
        "colab_type": "code",
        "colab": {}
      },
      "source": [
        "import matplotlib.pyplot as plt\n",
        "from pyspark_dist_explore import Histogram, hist"
      ],
      "execution_count": null,
      "outputs": []
    },
    {
      "cell_type": "markdown",
      "metadata": {
        "id": "IqxBq0xCMIuH",
        "colab_type": "text"
      },
      "source": [
        "# **3. Inisialisasi SparkContext dan SparkSession**"
      ]
    },
    {
      "cell_type": "code",
      "metadata": {
        "id": "2U-vV5uTj00D",
        "colab_type": "code",
        "colab": {}
      },
      "source": [
        "sc = spark.sparkContext\n",
        "spark = SparkSession(sc)"
      ],
      "execution_count": 25,
      "outputs": []
    },
    {
      "cell_type": "markdown",
      "metadata": {
        "id": "9MOaU9XbMQfv",
        "colab_type": "text"
      },
      "source": [
        "# **4. Load Dataset**"
      ]
    },
    {
      "cell_type": "code",
      "metadata": {
        "id": "y1aXWhQFkJVq",
        "colab_type": "code",
        "colab": {
          "base_uri": "https://localhost:8080/",
          "height": 386
        },
        "outputId": "690bdb0d-fe5f-4c0a-84b7-466469e4118e"
      },
      "source": [
        "WorldCupMatches_df = spark.read.csv(\"WorldCupMatches.csv\", header=True, inferSchema=True)\n",
        "WorldCupMatches_df.printSchema() "
      ],
      "execution_count": 26,
      "outputs": [
        {
          "output_type": "stream",
          "text": [
            "root\n",
            " |-- Year: integer (nullable = true)\n",
            " |-- Datetime: string (nullable = true)\n",
            " |-- Stage: string (nullable = true)\n",
            " |-- Stadium: string (nullable = true)\n",
            " |-- City: string (nullable = true)\n",
            " |-- Home Team Name: string (nullable = true)\n",
            " |-- Home Team Goals: integer (nullable = true)\n",
            " |-- Away Team Goals: integer (nullable = true)\n",
            " |-- Away Team Name: string (nullable = true)\n",
            " |-- Win conditions: string (nullable = true)\n",
            " |-- Attendance: integer (nullable = true)\n",
            " |-- Half-time Home Goals: integer (nullable = true)\n",
            " |-- Half-time Away Goals: integer (nullable = true)\n",
            " |-- Referee: string (nullable = true)\n",
            " |-- Assistant 1: string (nullable = true)\n",
            " |-- Assistant 2: string (nullable = true)\n",
            " |-- RoundID: integer (nullable = true)\n",
            " |-- MatchID: integer (nullable = true)\n",
            " |-- Home Team Initials: string (nullable = true)\n",
            " |-- Away Team Initials: string (nullable = true)\n",
            "\n"
          ],
          "name": "stdout"
        }
      ]
    },
    {
      "cell_type": "markdown",
      "metadata": {
        "id": "yqc4qIUJMiNg",
        "colab_type": "text"
      },
      "source": [
        "# **5. Proses EDA**"
      ]
    },
    {
      "cell_type": "code",
      "metadata": {
        "id": "tVchuJejklZR",
        "colab_type": "code",
        "colab": {
          "base_uri": "https://localhost:8080/",
          "height": 50
        },
        "outputId": "6b04ae5d-678e-4095-a818-aa25b797b5b3"
      },
      "source": [
        "print(\"Jumlah pertandingan yang terjadi :\")\n",
        "WorldCupMatches_df.count()"
      ],
      "execution_count": 27,
      "outputs": [
        {
          "output_type": "stream",
          "text": [
            "Jumlah pertandingan yang terjadi :\n"
          ],
          "name": "stdout"
        },
        {
          "output_type": "execute_result",
          "data": {
            "text/plain": [
              "852"
            ]
          },
          "metadata": {
            "tags": []
          },
          "execution_count": 27
        }
      ]
    },
    {
      "cell_type": "code",
      "metadata": {
        "id": "DIprlWb_kxQK",
        "colab_type": "code",
        "colab": {
          "base_uri": "https://localhost:8080/",
          "height": 185
        },
        "outputId": "c205554f-db52-49fe-8239-297a3e59f2e0"
      },
      "source": [
        "WorldCupMatches_df.select('Year').describe().show()"
      ],
      "execution_count": 28,
      "outputs": [
        {
          "output_type": "stream",
          "text": [
            "+-------+------------------+\n",
            "|summary|              Year|\n",
            "+-------+------------------+\n",
            "|  count|               852|\n",
            "|   mean|1985.0892018779343|\n",
            "| stddev|22.448824702021138|\n",
            "|    min|              1930|\n",
            "|    max|              2014|\n",
            "+-------+------------------+\n",
            "\n"
          ],
          "name": "stdout"
        }
      ]
    },
    {
      "cell_type": "code",
      "metadata": {
        "id": "MUDqCFeypq6G",
        "colab_type": "code",
        "colab": {
          "base_uri": "https://localhost:8080/",
          "height": 334
        },
        "outputId": "78b4533b-3039-479c-d892-c69651462f06"
      },
      "source": [
        "WorldCupMatches_df_year = WorldCupMatches_df.select('Year')\n",
        "\n",
        "fig, axes = plt.subplots()\n",
        "fig.set_size_inches(5, 5)\n",
        "hist(axes, WorldCupMatches_df_year, color=\"red\")\n",
        "plt.xlabel('Tahun')\n",
        "plt.ylabel('Banyak')\n",
        "\n",
        "plt.show()"
      ],
      "execution_count": 31,
      "outputs": [
        {
          "output_type": "display_data",
          "data": {
            "image/png": "[encoded data removed]",
            "text/plain": [
              "<Figure size 360x360 with 1 Axes>"
            ]
          },
          "metadata": {
            "tags": [],
            "needs_background": "light"
          }
        }
      ]
    },
    {
      "cell_type": "code",
      "metadata": {
        "id": "rDh9NppbsNue",
        "colab_type": "code",
        "colab": {
          "base_uri": "https://localhost:8080/",
          "height": 50
        },
        "outputId": "bcc52fbe-b1fd-413d-fdfd-f8424753696b"
      },
      "source": [
        "print(\"Jumlah total pertandingan(tahun) dengan kolom tahun kosong(null):\")\n",
        "WorldCupMatches_df.where(col(\"Year\").isNull()).count()"
      ],
      "execution_count": 32,
      "outputs": [
        {
          "output_type": "stream",
          "text": [
            "Jumlah total pertandingan(tahun) dengan kolom tahun kosong(null):\n"
          ],
          "name": "stdout"
        },
        {
          "output_type": "execute_result",
          "data": {
            "text/plain": [
              "0"
            ]
          },
          "metadata": {
            "tags": []
          },
          "execution_count": 32
        }
      ]
    },
    {
      "cell_type": "markdown",
      "metadata": {
        "id": "xITjbPfnNCSw",
        "colab_type": "text"
      },
      "source": [
        "# **6. Pre-processing Data**"
      ]
    },
    {
      "cell_type": "code",
      "metadata": {
        "id": "frGA5bEcyAeI",
        "colab_type": "code",
        "colab": {
          "base_uri": "https://localhost:8080/",
          "height": 185
        },
        "outputId": "864bb200-ab43-42d6-e706-dbf7d0881eb7"
      },
      "source": [
        "WorldCupMatches_df.select('Year').describe().show()"
      ],
      "execution_count": 33,
      "outputs": [
        {
          "output_type": "stream",
          "text": [
            "+-------+------------------+\n",
            "|summary|              Year|\n",
            "+-------+------------------+\n",
            "|  count|               852|\n",
            "|   mean|1985.0892018779343|\n",
            "| stddev|22.448824702021138|\n",
            "|    min|              1930|\n",
            "|    max|              2014|\n",
            "+-------+------------------+\n",
            "\n"
          ],
          "name": "stdout"
        }
      ]
    },
    {
      "cell_type": "code",
      "metadata": {
        "id": "s5g6tZddyTBV",
        "colab_type": "code",
        "colab": {}
      },
      "source": [
        "WorldCupMatches_df.coalesce(1).write.csv(\"WorldCupMatches_processed\", header=True)"
      ],
      "execution_count": null,
      "outputs": []
    },
    {
      "cell_type": "code",
      "metadata": {
        "id": "lOFgxudsykjh",
        "colab_type": "code",
        "colab": {}
      },
      "source": [
        "spark.stop() "
      ],
      "execution_count": null,
      "outputs": []
    }
  ]
}